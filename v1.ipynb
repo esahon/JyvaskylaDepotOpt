{
 "cells": [
  {
   "cell_type": "code",
   "execution_count": 4,
   "id": "ea47f071-d582-4e70-952e-b14ea1f4990a",
   "metadata": {
    "tags": []
   },
   "outputs": [
    {
     "data": {
      "text/plain": [
       "10"
      ]
     },
     "execution_count": 4,
     "metadata": {},
     "output_type": "execute_result"
    }
   ],
   "source": [
    "using JuMP, HiGHS\n",
    "\n",
    "# Define parameters\n",
    "l = 2  # Number of lanes\n",
    "v = 5  # Total number of bus slots\n",
    "bus_types = [\"A\", \"B\", \"C\"]  # Types of buses\n",
    "#b = Dict(\"A\" => 5, \"B\" => 4, \"C\" => 3)  # Total buses of each type\n",
    "#b = Dict(\"A\" => 3, \"B\" => 2, \"C\" => 1)  # Total buses of each type\n",
    "b = Dict(\"A\" => 4, \"B\" => 3, \"C\" => 3)  # Total buses of each type\n",
    "n = sum(values(b))\n",
    "max_deviation = 1\n",
    "n"
   ]
  },
  {
   "cell_type": "code",
   "execution_count": 5,
   "id": "5f08ff51-0fce-4853-8b36-3680d39ee05e",
   "metadata": {
    "tags": []
   },
   "outputs": [
    {
     "name": "stdout",
     "output_type": "stream",
     "text": [
      "[\"A\", \"A\", \"A\", \"B\", \"B\", \"A\", \"B\", \"C\", \"C\", \"C\"]\n",
      "[\"A\", \"A\", \"A\", \"B\", \"B\", \"A\", \"B\", \"C\", \"C\", \"C\"]\n",
      "\n",
      "Indices: Dict{Any, Any}(\"B\" => [3, 4, 6], \"A\" => [1, 2, 3, 5], \"C\" => [7, 8, 9])\n",
      "a_high: Dict{Any, Any}(\"B\" => [0, 0, 1, 2, 2, 3, 3, 3, 3, 3], \"A\" => [1, 2, 3, 3, 4, 4, 4, 4, 4, 4], \"C\" => [0, 0, 0, 0, 0, 0, 1, 2, 3, 3])\n",
      "\n",
      "Indices: Dict{Any, Any}(\"B\" => [5, 6, 8], \"A\" => [2, 3, 4, 7], \"C\" => [8, 9, 10])\n",
      "a_low: Dict{Any, Any}(\"B\" => [0, 0, 0, 0, 1, 2, 2, 3, 3, 3], \"A\" => [0, 1, 2, 3, 3, 3, 4, 4, 4, 4], \"C\" => [0, 0, 0, 0, 0, 0, 0, 1, 2, 3])\n",
      "\n",
      "Indices: Dict{Any, Any}(\"B\" => [4, 5, 7], \"A\" => [1, 2, 3, 6], \"C\" => [8, 9, 10])\n",
      "no_of_departed: Dict{Any, Any}(\"B\" => [0, 0, 0, 1, 2, 2, 3, 3, 3, 3], \"A\" => [1, 2, 3, 3, 3, 4, 4, 4, 4, 4], \"C\" => [0, 0, 0, 0, 0, 0, 0, 1, 2, 3])\n"
     ]
    }
   ],
   "source": [
    "#Works also for calculating number of buses departed\n",
    "function calculate_no_of_buses_arrived(arrivals, bus_type)\n",
    "    buses_arrived = zeros(Int, length(arrivals))\n",
    "    indices_with_arrival = Int[]\n",
    "    for i in 1:length(arrivals)\n",
    "        buses_arrived[i] = (i > 1 ? buses_arrived[i-1] : 0) + (arrivals[i] == bus_type ? 1 : 0)\n",
    "        if arrivals[i] == bus_type\n",
    "            push!(indices_with_arrival, i)  # Add the index to the list of indices with arrival\n",
    "        end\n",
    "        #println(\"At index $i: Number of $bus_type buses arrived = $buses_arrived[i]\")\n",
    "    end\n",
    "    buses_arrived_at_indices = buses_arrived\n",
    "    #buses_arrived_at_indices = [buses_arrived[i] for i in indices_with_arrival]\n",
    "    return indices_with_arrival, buses_arrived_at_indices\n",
    "end\n",
    "\n",
    "function compute_max_min_arrivals(arrivals, bus_type, max_deviation, max_or_min)\n",
    "    \n",
    "    if max_or_min == \"max\"\n",
    "        # Move the indices to the left by `max_deviation` steps, one step at a time\n",
    "        for i in 1:length(arrivals)\n",
    "            if arrivals[i] == bus_type\n",
    "                # Move step by step by max_deviation steps to the left\n",
    "                for j in 1:max_deviation\n",
    "                    if i > 1\n",
    "                        # Swap the element with the one on the left\n",
    "                        arrivals[i], arrivals[i-1] = arrivals[i-1], arrivals[i]\n",
    "                        #println(\"Moved element at index $i to index $(i-1): \", arrivals)\n",
    "                        i -= 1  # Move to the next index left\n",
    "                    end\n",
    "                end\n",
    "            end\n",
    "        end\n",
    "        indices_with_arrival, buses_arrived_at_indices = calculate_no_of_buses_arrived(arrivals, bus_type)\n",
    "    end\n",
    "    \n",
    "    if max_or_min == \"min\"\n",
    "        # Move the indices to the right by `max_deviation` steps, one step at a time\n",
    "        for i in length(arrivals):-1:1\n",
    "            if arrivals[i] == bus_type\n",
    "                # Move step by step by max_deviation steps to the right\n",
    "                for j in 1:max_deviation\n",
    "                    if i < length(arrivals)\n",
    "                        # Swap the element with the one on the right\n",
    "                        arrivals[i], arrivals[i+1] = arrivals[i+1], arrivals[i]\n",
    "                        #println(\"Moved element at index $i to index $(i+1): \", arrivals)\n",
    "                        i += 1  # Move to the next index right\n",
    "                    end\n",
    "                end\n",
    "            end\n",
    "        end\n",
    "        indices_with_arrival, buses_arrived_at_indices = calculate_no_of_buses_arrived(arrivals, bus_type)\n",
    "    end\n",
    "\n",
    "    return indices_with_arrival, buses_arrived_at_indices\n",
    "end\n",
    "\n",
    "\n",
    "function compute_departure_indices(departures, bus_type)\n",
    "    indices_with_departure, buses_departed_at_indices = calculate_no_of_buses_arrived(departures, bus_type)\n",
    "    return indices_with_departure, buses_departed_at_indices\n",
    "end\n",
    "\n",
    "# Example usage:\n",
    "\n",
    "# Define your planned arrival scenario (single scenario now)\n",
    "#arrivals = [\"A\", \"B\", \"B\", \"C\", \"A\", \"B\", \"A\", \"C\", \"A\", \"B\", \"C\", \"A\"]\n",
    "#departures = [\"A\", \"B\", \"B\", \"C\", \"A\", \"B\", \"A\", \"C\", \"A\", \"B\", \"C\", \"A\"]\n",
    "#arrivals = [\"B\", \"A\", \"A\", \"C\", \"B\", \"A\"]\n",
    "#departures = [\"B\", \"A\", \"A\", \"C\", \"B\", \"A\"]\n",
    "arrivals = [\"A\", \"A\", \"A\", \"B\", \"B\", \"A\", \"B\", \"C\", \"C\", \"C\"]\n",
    "departures = [\"A\", \"A\", \"A\", \"B\", \"B\", \"A\", \"B\", \"C\", \"C\", \"C\"]\n",
    "println(arrivals)\n",
    "println(departures)\n",
    "println(\"\")\n",
    "\n",
    "#compute_max_min_arrivals(arrivals, \"B\", 1, \"max\")\n",
    "\n",
    "indices_high = Dict()\n",
    "a_high = Dict()\n",
    "\n",
    "indices_low = Dict()\n",
    "a_low = Dict()\n",
    "\n",
    "departure_indices = Dict()\n",
    "no_of_departed = Dict()\n",
    "\n",
    "for t in bus_types\n",
    "    arrivals_copy = copy(arrivals)\n",
    "    indices_low[t], a_low[t] = compute_max_min_arrivals(arrivals_copy, t, max_deviation, \"min\")\n",
    "end\n",
    "\n",
    "for t in bus_types\n",
    "    arrivals_copy = copy(arrivals)\n",
    "    indices_high[t], a_high[t] = compute_max_min_arrivals(arrivals_copy, t, max_deviation, \"max\")\n",
    "end\n",
    "\n",
    "for t in bus_types\n",
    "    departures_copy = copy(departures)\n",
    "    departure_indices[t], no_of_departed[t] = compute_departure_indices(departures_copy, t)\n",
    "end\n",
    "\n",
    "# Print the results\n",
    "println(\"Indices: \", indices_high)\n",
    "println(\"a_high: \", a_high)\n",
    "println(\"\")\n",
    "println(\"Indices: \", indices_low)\n",
    "println(\"a_low: \", a_low)\n",
    "println(\"\")\n",
    "println(\"Indices: \", departure_indices)\n",
    "println(\"no_of_departed: \", no_of_departed)\n"
   ]
  },
  {
   "cell_type": "code",
   "execution_count": 6,
   "id": "cdc0c353-755e-4e1b-bf76-435958aa6add",
   "metadata": {
    "tags": []
   },
   "outputs": [
    {
     "name": "stdout",
     "output_type": "stream",
     "text": [
      "Pattern 1: [(\"A\", 5)] - Type: 1 - Exit block: Dict(\"A\" => 5) - Entry block: Dict{Any, Any}()\n",
      "Pattern 2: [(\"B\", 5)] - Type: 1 - Exit block: Dict(\"B\" => 5) - Entry block: Dict{Any, Any}()\n",
      "Pattern 3: [(\"C\", 5)] - Type: 1 - Exit block: Dict(\"C\" => 5) - Entry block: Dict{Any, Any}()\n",
      "Pattern 4: [(\"A\", 1), (\"B\", 4)] - Type: 2 - Exit block: Dict(\"A\" => 1) - Entry block: Dict(\"B\" => 4)\n",
      "Pattern 5: [(\"A\", 2), (\"B\", 3)] - Type: 2 - Exit block: Dict(\"A\" => 2) - Entry block: Dict(\"B\" => 3)\n",
      "Pattern 6: [(\"A\", 3), (\"B\", 2)] - Type: 2 - Exit block: Dict(\"A\" => 3) - Entry block: Dict(\"B\" => 2)\n",
      "Pattern 7: [(\"A\", 4), (\"B\", 1)] - Type: 2 - Exit block: Dict(\"A\" => 4) - Entry block: Dict(\"B\" => 1)\n",
      "Pattern 8: [(\"A\", 1), (\"C\", 4)] - Type: 2 - Exit block: Dict(\"A\" => 1) - Entry block: Dict(\"C\" => 4)\n",
      "Pattern 9: [(\"A\", 2), (\"C\", 3)] - Type: 2 - Exit block: Dict(\"A\" => 2) - Entry block: Dict(\"C\" => 3)\n",
      "Pattern 10: [(\"A\", 3), (\"C\", 2)] - Type: 2 - Exit block: Dict(\"A\" => 3) - Entry block: Dict(\"C\" => 2)\n",
      "Pattern 11: [(\"A\", 4), (\"C\", 1)] - Type: 2 - Exit block: Dict(\"A\" => 4) - Entry block: Dict(\"C\" => 1)\n",
      "Pattern 12: [(\"B\", 1), (\"A\", 4)] - Type: 2 - Exit block: Dict(\"B\" => 1) - Entry block: Dict(\"A\" => 4)\n",
      "Pattern 13: [(\"B\", 2), (\"A\", 3)] - Type: 2 - Exit block: Dict(\"B\" => 2) - Entry block: Dict(\"A\" => 3)\n",
      "Pattern 14: [(\"B\", 3), (\"A\", 2)] - Type: 2 - Exit block: Dict(\"B\" => 3) - Entry block: Dict(\"A\" => 2)\n",
      "Pattern 15: [(\"B\", 4), (\"A\", 1)] - Type: 2 - Exit block: Dict(\"B\" => 4) - Entry block: Dict(\"A\" => 1)\n",
      "Pattern 16: [(\"B\", 1), (\"C\", 4)] - Type: 2 - Exit block: Dict(\"B\" => 1) - Entry block: Dict(\"C\" => 4)\n",
      "Pattern 17: [(\"B\", 2), (\"C\", 3)] - Type: 2 - Exit block: Dict(\"B\" => 2) - Entry block: Dict(\"C\" => 3)\n",
      "Pattern 18: [(\"B\", 3), (\"C\", 2)] - Type: 2 - Exit block: Dict(\"B\" => 3) - Entry block: Dict(\"C\" => 2)\n",
      "Pattern 19: [(\"B\", 4), (\"C\", 1)] - Type: 2 - Exit block: Dict(\"B\" => 4) - Entry block: Dict(\"C\" => 1)\n",
      "Pattern 20: [(\"C\", 1), (\"A\", 4)] - Type: 2 - Exit block: Dict(\"C\" => 1) - Entry block: Dict(\"A\" => 4)\n",
      "Pattern 21: [(\"C\", 2), (\"A\", 3)] - Type: 2 - Exit block: Dict(\"C\" => 2) - Entry block: Dict(\"A\" => 3)\n",
      "Pattern 22: [(\"C\", 3), (\"A\", 2)] - Type: 2 - Exit block: Dict(\"C\" => 3) - Entry block: Dict(\"A\" => 2)\n",
      "Pattern 23: [(\"C\", 4), (\"A\", 1)] - Type: 2 - Exit block: Dict(\"C\" => 4) - Entry block: Dict(\"A\" => 1)\n",
      "Pattern 24: [(\"C\", 1), (\"B\", 4)] - Type: 2 - Exit block: Dict(\"C\" => 1) - Entry block: Dict(\"B\" => 4)\n",
      "Pattern 25: [(\"C\", 2), (\"B\", 3)] - Type: 2 - Exit block: Dict(\"C\" => 2) - Entry block: Dict(\"B\" => 3)\n",
      "Pattern 26: [(\"C\", 3), (\"B\", 2)] - Type: 2 - Exit block: Dict(\"C\" => 3) - Entry block: Dict(\"B\" => 2)\n",
      "Pattern 27: [(\"C\", 4), (\"B\", 1)] - Type: 2 - Exit block: Dict(\"C\" => 4) - Entry block: Dict(\"B\" => 1)\n"
     ]
    }
   ],
   "source": [
    "# Function to generate all admissible patterns with an indicator\n",
    "function generate_patterns(v, bus_types)\n",
    "    patterns = []\n",
    "    pattern_types = Dict()  # Store whether pattern is one-block (1) or two-block (2)\n",
    "    exit_block = Dict()\n",
    "    entry_block = Dict()\n",
    "\n",
    "    # One-block patterns (cover all bus types in dict)\n",
    "    for t in bus_types\n",
    "        pattern = [(t, v)]\n",
    "        push!(patterns, pattern)\n",
    "        pattern_types[length(patterns)] = 1  # Mark as one-block\n",
    "\n",
    "        # Exit dict: Only store nonzero values\n",
    "        exit_dict = Dict(bt => v for bt in bus_types if bt == t)\n",
    "        entry_dict = Dict()  # Empty because no entry occurs in a one-block pattern\n",
    "\n",
    "        exit_block[length(patterns)] = exit_dict\n",
    "        entry_block[length(patterns)] = entry_dict\n",
    "    end\n",
    "\n",
    "    # Two-block patterns\n",
    "    for (i, t1) in enumerate(bus_types), (j, t2) in enumerate(bus_types)\n",
    "        if i != j  # Ensure different types\n",
    "            for s1 in 1:(v-1)  # Exit block size\n",
    "                s2 = v - s1  # Entry block size\n",
    "                pattern = [(t1, s1), (t2, s2)]\n",
    "                push!(patterns, pattern)\n",
    "                pattern_types[length(patterns)] = 2  # Mark as two-block\n",
    "\n",
    "                # Only store nonzero values in dicts\n",
    "                exit_dict = Dict(t1 => s1)\n",
    "                entry_dict = Dict(t2 => s2)\n",
    "\n",
    "                exit_block[length(patterns)] = exit_dict\n",
    "                entry_block[length(patterns)] = entry_dict\n",
    "            end\n",
    "        end\n",
    "    end\n",
    "\n",
    "    return patterns, pattern_types, exit_block, entry_block\n",
    "end\n",
    "\n",
    "# Generate patterns and indicators\n",
    "P, pattern_types, exit_block, entry_block = generate_patterns(v, bus_types)\n",
    "\n",
    "# Print patterns with their types\n",
    "for i in 1:length(P)\n",
    "    println(\"Pattern $i: \", P[i], \" - Type: \", pattern_types[i], \" - Exit block: \", exit_block[i], \" - Entry block: \", entry_block[i])\n",
    "end"
   ]
  },
  {
   "cell_type": "code",
   "execution_count": 7,
   "id": "752bb53a-dce4-401a-b6a6-ec091ec74904",
   "metadata": {
    "tags": []
   },
   "outputs": [
    {
     "data": {
      "text/plain": [
       "27×10 Matrix{VariableRef}:\n",
       " Z[1,1]   Z[1,2]   Z[1,3]   Z[1,4]   …  Z[1,7]   Z[1,8]   Z[1,9]   Z[1,10]\n",
       " Z[2,1]   Z[2,2]   Z[2,3]   Z[2,4]      Z[2,7]   Z[2,8]   Z[2,9]   Z[2,10]\n",
       " Z[3,1]   Z[3,2]   Z[3,3]   Z[3,4]      Z[3,7]   Z[3,8]   Z[3,9]   Z[3,10]\n",
       " Z[4,1]   Z[4,2]   Z[4,3]   Z[4,4]      Z[4,7]   Z[4,8]   Z[4,9]   Z[4,10]\n",
       " Z[5,1]   Z[5,2]   Z[5,3]   Z[5,4]      Z[5,7]   Z[5,8]   Z[5,9]   Z[5,10]\n",
       " Z[6,1]   Z[6,2]   Z[6,3]   Z[6,4]   …  Z[6,7]   Z[6,8]   Z[6,9]   Z[6,10]\n",
       " Z[7,1]   Z[7,2]   Z[7,3]   Z[7,4]      Z[7,7]   Z[7,8]   Z[7,9]   Z[7,10]\n",
       " Z[8,1]   Z[8,2]   Z[8,3]   Z[8,4]      Z[8,7]   Z[8,8]   Z[8,9]   Z[8,10]\n",
       " Z[9,1]   Z[9,2]   Z[9,3]   Z[9,4]      Z[9,7]   Z[9,8]   Z[9,9]   Z[9,10]\n",
       " Z[10,1]  Z[10,2]  Z[10,3]  Z[10,4]     Z[10,7]  Z[10,8]  Z[10,9]  Z[10,10]\n",
       " Z[11,1]  Z[11,2]  Z[11,3]  Z[11,4]  …  Z[11,7]  Z[11,8]  Z[11,9]  Z[11,10]\n",
       " Z[12,1]  Z[12,2]  Z[12,3]  Z[12,4]     Z[12,7]  Z[12,8]  Z[12,9]  Z[12,10]\n",
       " Z[13,1]  Z[13,2]  Z[13,3]  Z[13,4]     Z[13,7]  Z[13,8]  Z[13,9]  Z[13,10]\n",
       " ⋮                                   ⋱                             \n",
       " Z[16,1]  Z[16,2]  Z[16,3]  Z[16,4]  …  Z[16,7]  Z[16,8]  Z[16,9]  Z[16,10]\n",
       " Z[17,1]  Z[17,2]  Z[17,3]  Z[17,4]     Z[17,7]  Z[17,8]  Z[17,9]  Z[17,10]\n",
       " Z[18,1]  Z[18,2]  Z[18,3]  Z[18,4]     Z[18,7]  Z[18,8]  Z[18,9]  Z[18,10]\n",
       " Z[19,1]  Z[19,2]  Z[19,3]  Z[19,4]     Z[19,7]  Z[19,8]  Z[19,9]  Z[19,10]\n",
       " Z[20,1]  Z[20,2]  Z[20,3]  Z[20,4]     Z[20,7]  Z[20,8]  Z[20,9]  Z[20,10]\n",
       " Z[21,1]  Z[21,2]  Z[21,3]  Z[21,4]  …  Z[21,7]  Z[21,8]  Z[21,9]  Z[21,10]\n",
       " Z[22,1]  Z[22,2]  Z[22,3]  Z[22,4]     Z[22,7]  Z[22,8]  Z[22,9]  Z[22,10]\n",
       " Z[23,1]  Z[23,2]  Z[23,3]  Z[23,4]     Z[23,7]  Z[23,8]  Z[23,9]  Z[23,10]\n",
       " Z[24,1]  Z[24,2]  Z[24,3]  Z[24,4]     Z[24,7]  Z[24,8]  Z[24,9]  Z[24,10]\n",
       " Z[25,1]  Z[25,2]  Z[25,3]  Z[25,4]     Z[25,7]  Z[25,8]  Z[25,9]  Z[25,10]\n",
       " Z[26,1]  Z[26,2]  Z[26,3]  Z[26,4]  …  Z[26,7]  Z[26,8]  Z[26,9]  Z[26,10]\n",
       " Z[27,1]  Z[27,2]  Z[27,3]  Z[27,4]     Z[27,7]  Z[27,8]  Z[27,9]  Z[27,10]"
      ]
     },
     "execution_count": 7,
     "metadata": {},
     "output_type": "execute_result"
    }
   ],
   "source": [
    "# Initialize JuMP model\n",
    "model = Model(HiGHS.Optimizer)\n",
    "\n",
    "# Define decision variables for each pattern\n",
    "@variable(model, X[1:length(P)] >= 0, Int)  # One variable per pattern\n",
    "@variable(model, Y[1:length(P), 1:n] >= 0, Int)  # Integer variable for assignments\n",
    "@variable(model, Z[1:length(P), 1:n] >= 0, Int)  # Integer variable for assignments"
   ]
  },
  {
   "cell_type": "code",
   "execution_count": 8,
   "id": "c94f444f-4868-4ee5-bf91-21652949a84e",
   "metadata": {
    "tags": []
   },
   "outputs": [
    {
     "data": {
      "text/latex": [
       "$ X_{4} + X_{5} + X_{6} + X_{7} + X_{8} + X_{9} + X_{10} + X_{11} + X_{12} + X_{13} + X_{14} + X_{15} + X_{16} + X_{17} + X_{18} + X_{19} + X_{20} + X_{21} + X_{22} + X_{23} + X_{24} + X_{25} + X_{26} + X_{27} $"
      ],
      "text/plain": [
       "X[4] + X[5] + X[6] + X[7] + X[8] + X[9] + X[10] + X[11] + X[12] + X[13] + X[14] + X[15] + X[16] + X[17] + X[18] + X[19] + X[20] + X[21] + X[22] + X[23] + X[24] + X[25] + X[26] + X[27]"
      ]
     },
     "execution_count": 8,
     "metadata": {},
     "output_type": "execute_result"
    }
   ],
   "source": [
    "# Objective: Minimize two-block patterns\n",
    "@objective(model, Min, sum(X[i] for i in 1:length(P) if pattern_types[i] == 2))"
   ]
  },
  {
   "cell_type": "code",
   "execution_count": 9,
   "id": "2e4f5232-3021-44b9-b609-30ce70282a35",
   "metadata": {
    "tags": []
   },
   "outputs": [
    {
     "data": {
      "text/latex": [
       "$$ X_{1} + X_{2} + X_{3} + X_{4} + X_{5} + X_{6} + X_{7} + X_{8} + X_{9} + X_{10} + X_{11} + X_{12} + X_{13} + X_{14} + X_{15} + X_{16} + X_{17} + X_{18} + X_{19} + X_{20} + X_{21} + X_{22} + X_{23} + X_{24} + X_{25} + X_{26} + X_{27} = 2 $$"
      ],
      "text/plain": [
       "total_lanes : X[1] + X[2] + X[3] + X[4] + X[5] + X[6] + X[7] + X[8] + X[9] + X[10] + X[11] + X[12] + X[13] + X[14] + X[15] + X[16] + X[17] + X[18] + X[19] + X[20] + X[21] + X[22] + X[23] + X[24] + X[25] + X[26] + X[27] = 2"
      ]
     },
     "execution_count": 9,
     "metadata": {},
     "output_type": "execute_result"
    }
   ],
   "source": [
    "# Constraint: Total lanes must match v\n",
    "@constraint(model, total_lanes, sum(X[i] for i in 1:length(P)) == l)"
   ]
  },
  {
   "cell_type": "code",
   "execution_count": 10,
   "id": "41052210-dbde-4536-825a-0e441be23b99",
   "metadata": {
    "tags": []
   },
   "outputs": [],
   "source": [
    "# Constraints: Satisfy total bus requirements per type\n",
    "for t in bus_types\n",
    "    @constraint(model, sum((get(exit_block[i], t, 0) + get(entry_block[i], t, 0)) * X[i] for i in 1:length(P)) == b[t])\n",
    "end"
   ]
  },
  {
   "cell_type": "code",
   "execution_count": 11,
   "id": "ea3bd925-927b-4dd3-a9c7-42048c362276",
   "metadata": {
    "tags": []
   },
   "outputs": [],
   "source": [
    "# Constraint (6)\n",
    "for t in bus_types\n",
    "    for i in indices_high[t]  # Loop through indices for each bus type\n",
    "        @constraint(model, \n",
    "            sum(get(exit_block[p], t, 0) * X[p] for p in 1:length(P)) +\n",
    "            sum(get(entry_block[p], t, 0) * Y[p, i] for p in 1:length(P) if pattern_types[p] == 2)\n",
    "            >= a_high[t][i]  # Access a_high dictionary correctly for the specific bus type and index\n",
    "        )\n",
    "    end\n",
    "end"
   ]
  },
  {
   "cell_type": "code",
   "execution_count": 12,
   "id": "9830f67e-9a29-43ac-b58f-3583e412e596",
   "metadata": {
    "tags": []
   },
   "outputs": [],
   "source": [
    "# Constraint (7)\n",
    "for t in bus_types\n",
    "    for i in union([indices_low[t′] for t′ in bus_types if t′ ≠ t]...)  # Collect indices from all other bus types\n",
    "        @constraint(model, \n",
    "            sum(get(exit_block[p], t, 0) * Y[p, i] for p in 1:length(P) if pattern_types[p] == 2)\n",
    "            <= a_low[t][i]  # Access a_low dictionary correctly for the specific bus type and index\n",
    "        )\n",
    "    end\n",
    "end"
   ]
  },
  {
   "cell_type": "code",
   "execution_count": 13,
   "id": "8970407a-2847-4346-a78a-744143d0368c",
   "metadata": {
    "tags": []
   },
   "outputs": [],
   "source": [
    "# Constraint (8)\n",
    "for (idx, p) in enumerate(P)  # idx is the position in P, p is the value in P\n",
    "    if pattern_types[idx] == 2\n",
    "        for i in 1:n-1\n",
    "            @constraint(model, Y[idx, i] <= Y[idx, i+1])\n",
    "        end\n",
    "    end\n",
    "end"
   ]
  },
  {
   "cell_type": "code",
   "execution_count": 14,
   "id": "dedf2eaf-f368-4be1-829d-5c70289ee1f0",
   "metadata": {
    "tags": []
   },
   "outputs": [],
   "source": [
    "# Constraint (9)\n",
    "for (idx, p) in enumerate(P)  # idx is the position in P, p is the value in P\n",
    "    if pattern_types[idx] == 2\n",
    "        @constraint(model, Y[idx, n] <= X[idx])\n",
    "    end\n",
    "end"
   ]
  },
  {
   "cell_type": "code",
   "execution_count": 15,
   "id": "c9da759a-7750-48c0-b444-5b183227ba13",
   "metadata": {
    "tags": []
   },
   "outputs": [],
   "source": [
    "# Constraint (10)\n",
    "for t in bus_types\n",
    "    for i in departure_indices[t]  # Loop through indices for each bus type\n",
    "        @constraint(model, \n",
    "            sum(get(exit_block[p], t, 0) * X[p] for p in 1:length(P)) +\n",
    "            sum(get(entry_block[p], t, 0) * Z[p, i] for p in 1:length(P) if pattern_types[p] == 2)\n",
    "            >= no_of_departed[t][i]  # Access a_high dictionary correctly for the specific bus type and index\n",
    "        )\n",
    "    end\n",
    "end"
   ]
  },
  {
   "cell_type": "code",
   "execution_count": 16,
   "id": "0a002d78-6121-4dba-a0fe-f8423c79127e",
   "metadata": {
    "tags": []
   },
   "outputs": [],
   "source": [
    "# Constraint (11)\n",
    "for t in bus_types\n",
    "    for i in union([departure_indices[t′] for t′ in bus_types if t′ ≠ t]...)  # Collect indices from all other bus types\n",
    "        @constraint(model, \n",
    "            sum(get(exit_block[p], t, 0) * Z[p, i] for p in 1:length(P) if pattern_types[p] == 2)\n",
    "            <= no_of_departed[t][i]  # Access a_low dictionary correctly for the specific bus type and index\n",
    "        )\n",
    "    end\n",
    "end"
   ]
  },
  {
   "cell_type": "code",
   "execution_count": 17,
   "id": "5a0a0330-b2a1-4cba-a3bd-32af54e71263",
   "metadata": {
    "tags": []
   },
   "outputs": [],
   "source": [
    "# Constraint (12)\n",
    "for (idx, p) in enumerate(P)  # idx is the position in P, p is the value in P\n",
    "    if pattern_types[idx] == 2\n",
    "        for j in 1:n-1\n",
    "            @constraint(model, Z[idx, j] <= Z[idx, j+1])\n",
    "        end\n",
    "    end\n",
    "end"
   ]
  },
  {
   "cell_type": "code",
   "execution_count": 18,
   "id": "c3c39298-5033-4ad3-81f0-27468df6d061",
   "metadata": {
    "tags": []
   },
   "outputs": [],
   "source": [
    "# Constraint (13)\n",
    "for (idx, p) in enumerate(P)  # idx is the position in P, p is the value in P\n",
    "    if pattern_types[idx] == 2\n",
    "        @constraint(model, Z[idx, n] <= X[idx])\n",
    "    end\n",
    "end"
   ]
  },
  {
   "cell_type": "code",
   "execution_count": 19,
   "id": "2ef4c8fe-a713-4b8e-8f02-601a2fdba512",
   "metadata": {
    "tags": []
   },
   "outputs": [
    {
     "name": "stdout",
     "output_type": "stream",
     "text": [
      "Running HiGHS 1.9.0 (git hash: 66f735e60): Copyright (c) 2024 HiGHS under MIT licence terms\n",
      "Coefficient ranges:\n",
      "  Matrix [1e+00, 5e+00]\n",
      "  Cost   [1e+00, 1e+00]\n",
      "  Bound  [0e+00, 0e+00]\n",
      "  RHS    [1e+00, 4e+00]\n",
      "Presolving model\n",
      "205 rows, 157 cols, 596 nonzeros  0s\n",
      "101 rows, 74 cols, 391 nonzeros  0s\n",
      "87 rows, 60 cols, 363 nonzeros  0s\n",
      "77 rows, 5 cols, 79 nonzeros  0s\n",
      "5 rows, 3 cols, 11 nonzeros  0s\n",
      "3 rows, 3 cols, 7 nonzeros  0s\n",
      "0 rows, 0 cols, 0 nonzeros  0s\n",
      "Presolve: Optimal\n",
      "\n",
      "Src: B => Branching; C => Central rounding; F => Feasibility pump; H => Heuristic; L => Sub-MIP;\n",
      "     P => Empty MIP; R => Randomized rounding; S => Solve LP; T => Evaluate node; U => Unbounded;\n",
      "     z => Trivial zero; l => Trivial lower; u => Trivial upper; p => Trivial point\n",
      "\n",
      "        Nodes      |    B&B Tree     |            Objective Bounds              |  Dynamic Constraints |       Work      \n",
      "Src  Proc. InQueue |  Leaves   Expl. | BestBound       BestSol              Gap |   Cuts   InLp Confl. | LpIters     Time\n",
      "\n",
      "         0       0         0   0.00%   2               2                  0.00%        0      0      0         0     0.0s\n",
      "\n",
      "Solving report\n",
      "  Status            Optimal\n",
      "  Primal bound      2\n",
      "  Dual bound        2\n",
      "  Gap               0% (tolerance: 0.01%)\n",
      "  P-D integral      0\n",
      "  Solution status   feasible\n",
      "                    2 (objective)\n",
      "                    0 (bound viol.)\n",
      "                    0 (int. viol.)\n",
      "                    0 (row viol.)\n",
      "  Timing            0.00 (total)\n",
      "                    0.00 (presolve)\n",
      "                    0.00 (solve)\n",
      "                    0.00 (postsolve)\n",
      "  Max sub-MIP depth 0\n",
      "  Nodes             0\n",
      "  Repair LPs        0 (0 feasible; 0 iterations)\n",
      "  LP iterations     0 (total)\n",
      "                    0 (strong br.)\n",
      "                    0 (separation)\n",
      "                    0 (heuristics)\n"
     ]
    }
   ],
   "source": [
    "optimize!(model)"
   ]
  },
  {
   "cell_type": "code",
   "execution_count": 483,
   "id": "d2eb9e79-1496-4a83-b3dc-580aba55b795",
   "metadata": {
    "tags": []
   },
   "outputs": [
    {
     "data": {
      "text/plain": [
       "27-element Vector{Float64}:\n",
       " 0.0\n",
       " 0.0\n",
       " 0.0\n",
       " 0.0\n",
       " 0.0\n",
       " 0.0\n",
       " 0.0\n",
       " 0.0\n",
       " 0.0\n",
       " 0.0\n",
       " 1.0\n",
       " 0.0\n",
       " 0.0\n",
       " ⋮\n",
       " 0.0\n",
       " 0.0\n",
       " 1.0\n",
       " 0.0\n",
       " 0.0\n",
       " 0.0\n",
       " 0.0\n",
       " 0.0\n",
       " 0.0\n",
       " 0.0\n",
       " 0.0\n",
       " 0.0"
      ]
     },
     "execution_count": 483,
     "metadata": {},
     "output_type": "execute_result"
    }
   ],
   "source": [
    "JuMP.value.(X)"
   ]
  },
  {
   "cell_type": "code",
   "execution_count": 484,
   "id": "cac771de-dc9d-4736-b102-e53dc06011b7",
   "metadata": {
    "tags": []
   },
   "outputs": [
    {
     "data": {
      "text/plain": [
       "27-element Vector{Any}:\n",
       " [(\"A\", 5)]\n",
       " [(\"B\", 5)]\n",
       " [(\"C\", 5)]\n",
       " [(\"A\", 1), (\"B\", 4)]\n",
       " [(\"A\", 2), (\"B\", 3)]\n",
       " [(\"A\", 3), (\"B\", 2)]\n",
       " [(\"A\", 4), (\"B\", 1)]\n",
       " [(\"A\", 1), (\"C\", 4)]\n",
       " [(\"A\", 2), (\"C\", 3)]\n",
       " [(\"A\", 3), (\"C\", 2)]\n",
       " [(\"A\", 4), (\"C\", 1)]\n",
       " [(\"B\", 1), (\"A\", 4)]\n",
       " [(\"B\", 2), (\"A\", 3)]\n",
       " ⋮\n",
       " [(\"B\", 1), (\"C\", 4)]\n",
       " [(\"B\", 2), (\"C\", 3)]\n",
       " [(\"B\", 3), (\"C\", 2)]\n",
       " [(\"B\", 4), (\"C\", 1)]\n",
       " [(\"C\", 1), (\"A\", 4)]\n",
       " [(\"C\", 2), (\"A\", 3)]\n",
       " [(\"C\", 3), (\"A\", 2)]\n",
       " [(\"C\", 4), (\"A\", 1)]\n",
       " [(\"C\", 1), (\"B\", 4)]\n",
       " [(\"C\", 2), (\"B\", 3)]\n",
       " [(\"C\", 3), (\"B\", 2)]\n",
       " [(\"C\", 4), (\"B\", 1)]"
      ]
     },
     "execution_count": 484,
     "metadata": {},
     "output_type": "execute_result"
    }
   ],
   "source": [
    "P"
   ]
  },
  {
   "cell_type": "code",
   "execution_count": 22,
   "id": "86be2f96-f88c-460c-b234-78671e2f0ba9",
   "metadata": {
    "tags": []
   },
   "outputs": [
    {
     "data": {
      "text/plain": [
       "15×6 Matrix{Float64}:\n",
       " 0.0  0.0  0.0  0.0  0.0  0.0\n",
       " 0.0  0.0  0.0  0.0  0.0  0.0\n",
       " 0.0  0.0  0.0  0.0  0.0  0.0\n",
       " 0.0  0.0  0.0  0.0  0.0  0.0\n",
       " 0.0  0.0  0.0  0.0  0.0  1.0\n",
       " 0.0  0.0  0.0  0.0  0.0  0.0\n",
       " 0.0  0.0  0.0  0.0  0.0  0.0\n",
       " 0.0  0.0  0.0  0.0  0.0  0.0\n",
       " 0.0  0.0  0.0  0.0  0.0  0.0\n",
       " 0.0  0.0  0.0  0.0  0.0  0.0\n",
       " 0.0  0.0  0.0  1.0  1.0  1.0\n",
       " 0.0  0.0  0.0  0.0  0.0  0.0\n",
       " 0.0  0.0  0.0  0.0  0.0  0.0\n",
       " 0.0  0.0  0.0  0.0  0.0  0.0\n",
       " 0.0  0.0  0.0  0.0  0.0  0.0"
      ]
     },
     "execution_count": 22,
     "metadata": {},
     "output_type": "execute_result"
    }
   ],
   "source": [
    "JuMP.value.(Y)"
   ]
  },
  {
   "cell_type": "code",
   "execution_count": 23,
   "id": "aadc8d52-9d8b-4c8e-b406-3acd5e675fa5",
   "metadata": {
    "tags": []
   },
   "outputs": [
    {
     "data": {
      "text/plain": [
       "15×6 Matrix{Float64}:\n",
       " 0.0  0.0  0.0  0.0  0.0  0.0\n",
       " 0.0  0.0  0.0  0.0  0.0  0.0\n",
       " 0.0  0.0  0.0  0.0  0.0  0.0\n",
       " 0.0  0.0  0.0  0.0  0.0  0.0\n",
       " 0.0  0.0  0.0  0.0  0.0  1.0\n",
       " 0.0  0.0  0.0  0.0  0.0  0.0\n",
       " 0.0  0.0  0.0  0.0  0.0  0.0\n",
       " 0.0  0.0  0.0  0.0  0.0  0.0\n",
       " 0.0  0.0  0.0  0.0  0.0  0.0\n",
       " 0.0  0.0  0.0  0.0  0.0  0.0\n",
       " 0.0  0.0  0.0  1.0  1.0  1.0\n",
       " 0.0  0.0  0.0  0.0  0.0  0.0\n",
       " 0.0  0.0  0.0  0.0  0.0  0.0\n",
       " 0.0  0.0  0.0  0.0  0.0  0.0\n",
       " 0.0  0.0  0.0  0.0  0.0  0.0"
      ]
     },
     "execution_count": 23,
     "metadata": {},
     "output_type": "execute_result"
    }
   ],
   "source": [
    "JuMP.value.(Z)"
   ]
  },
  {
   "cell_type": "code",
   "execution_count": 142,
   "id": "02c0a0c3-b126-413b-9e6f-4c7f96410f28",
   "metadata": {
    "tags": []
   },
   "outputs": [
    {
     "data": {
      "text/latex": [
       "$$ \\begin{aligned}\n",
       "\\min\\quad & X_{4} + X_{5} + X_{6} + X_{7} + X_{8} + X_{9} + X_{10} + X_{11} + X_{12} + X_{13} + X_{14} + X_{15} + X_{16} + X_{17} + X_{18} + X_{19} + X_{20} + X_{21} + X_{22} + X_{23} + X_{24} + X_{25} + X_{26} + X_{27} + X_{28} + X_{29} + X_{30} + X_{31} + X_{32} + X_{33}\\\\\n",
       "\\text{Subject to} \\quad & X_{1} + X_{2} + X_{3} + X_{4} + X_{5} + X_{6} + X_{7} + X_{8} + X_{9} + X_{10} + X_{11} + X_{12} + X_{13} + X_{14} + X_{15} + X_{16} + X_{17} + X_{18} + X_{19} + X_{20} + X_{21} + X_{22} + X_{23} + X_{24} + X_{25} + X_{26} + X_{27} + X_{28} + X_{29} + X_{30} + X_{31} + X_{32} + X_{33} = 2\\\\\n",
       " & 6 X_{1} + X_{4} + 2 X_{5} + 3 X_{6} + 4 X_{7} + 5 X_{8} + X_{9} + 2 X_{10} + 3 X_{11} + 4 X_{12} + 5 X_{13} + 5 X_{14} + 4 X_{15} + 3 X_{16} + 2 X_{17} + X_{18} + 5 X_{24} + 4 X_{25} + 3 X_{26} + 2 X_{27} + X_{28} = 5\\\\\n",
       " & 6 X_{2} + 5 X_{4} + 4 X_{5} + 3 X_{6} + 2 X_{7} + X_{8} + X_{14} + 2 X_{15} + 3 X_{16} + 4 X_{17} + 5 X_{18} + X_{19} + 2 X_{20} + 3 X_{21} + 4 X_{22} + 5 X_{23} + 5 X_{29} + 4 X_{30} + 3 X_{31} + 2 X_{32} + X_{33} = 4\\\\\n",
       " & 6 X_{3} + 5 X_{9} + 4 X_{10} + 3 X_{11} + 2 X_{12} + X_{13} + 5 X_{19} + 4 X_{20} + 3 X_{21} + 2 X_{22} + X_{23} + X_{24} + 2 X_{25} + 3 X_{26} + 4 X_{27} + 5 X_{28} + X_{29} + 2 X_{30} + 3 X_{31} + 4 X_{32} + 5 X_{33} = 3\\\\\n",
       " & 6 X_{1} + X_{4} + 2 X_{5} + 3 X_{6} + 4 X_{7} + 5 X_{8} + X_{9} + 2 X_{10} + 3 X_{11} + 4 X_{12} + 5 X_{13} + 5 Y_{14,1} + 4 Y_{15,1} + 3 Y_{16,1} + 2 Y_{17,1} + Y_{18,1} + 5 Y_{24,1} + 4 Y_{25,1} + 3 Y_{26,1} + 2 Y_{27,1} + Y_{28,1} \\geq 1\\\\\n",
       " & 6 X_{1} + X_{4} + 2 X_{5} + 3 X_{6} + 4 X_{7} + 5 X_{8} + X_{9} + 2 X_{10} + 3 X_{11} + 4 X_{12} + 5 X_{13} + 5 Y_{14,5} + 4 Y_{15,5} + 3 Y_{16,5} + 2 Y_{17,5} + Y_{18,5} + 5 Y_{24,5} + 4 Y_{25,5} + 3 Y_{26,5} + 2 Y_{27,5} + Y_{28,5} \\geq 2\\\\\n",
       " & 6 X_{1} + X_{4} + 2 X_{5} + 3 X_{6} + 4 X_{7} + 5 X_{8} + X_{9} + 2 X_{10} + 3 X_{11} + 4 X_{12} + 5 X_{13} + 5 Y_{14,7} + 4 Y_{15,7} + 3 Y_{16,7} + 2 Y_{17,7} + Y_{18,7} + 5 Y_{24,7} + 4 Y_{25,7} + 3 Y_{26,7} + 2 Y_{27,7} + Y_{28,7} \\geq 3\\\\\n",
       " & 6 X_{1} + X_{4} + 2 X_{5} + 3 X_{6} + 4 X_{7} + 5 X_{8} + X_{9} + 2 X_{10} + 3 X_{11} + 4 X_{12} + 5 X_{13} + 5 Y_{14,9} + 4 Y_{15,9} + 3 Y_{16,9} + 2 Y_{17,9} + Y_{18,9} + 5 Y_{24,9} + 4 Y_{25,9} + 3 Y_{26,9} + 2 Y_{27,9} + Y_{28,9} \\geq 4\\\\\n",
       " & 6 X_{1} + X_{4} + 2 X_{5} + 3 X_{6} + 4 X_{7} + 5 X_{8} + X_{9} + 2 X_{10} + 3 X_{11} + 4 X_{12} + 5 X_{13} + 5 Y_{14,12} + 4 Y_{15,12} + 3 Y_{16,12} + 2 Y_{17,12} + Y_{18,12} + 5 Y_{24,12} + 4 Y_{25,12} + 3 Y_{26,12} + 2 Y_{27,12} + Y_{28,12} \\geq 5\\\\\n",
       " & 6 X_{2} + X_{14} + 2 X_{15} + 3 X_{16} + 4 X_{17} + 5 X_{18} + X_{19} + 2 X_{20} + 3 X_{21} + 4 X_{22} + 5 X_{23} + 5 Y_{4,2} + 4 Y_{5,2} + 3 Y_{6,2} + 2 Y_{7,2} + Y_{8,2} + 5 Y_{29,2} + 4 Y_{30,2} + 3 Y_{31,2} + 2 Y_{32,2} + Y_{33,2} \\geq 1\\\\\n",
       " & 6 X_{2} + X_{14} + 2 X_{15} + 3 X_{16} + 4 X_{17} + 5 X_{18} + X_{19} + 2 X_{20} + 3 X_{21} + 4 X_{22} + 5 X_{23} + 5 Y_{4,3} + 4 Y_{5,3} + 3 Y_{6,3} + 2 Y_{7,3} + Y_{8,3} + 5 Y_{29,3} + 4 Y_{30,3} + 3 Y_{31,3} + 2 Y_{32,3} + Y_{33,3} \\geq 2\\\\\n",
       " & 6 X_{2} + X_{14} + 2 X_{15} + 3 X_{16} + 4 X_{17} + 5 X_{18} + X_{19} + 2 X_{20} + 3 X_{21} + 4 X_{22} + 5 X_{23} + 5 Y_{4,6} + 4 Y_{5,6} + 3 Y_{6,6} + 2 Y_{7,6} + Y_{8,6} + 5 Y_{29,6} + 4 Y_{30,6} + 3 Y_{31,6} + 2 Y_{32,6} + Y_{33,6} \\geq 3\\\\\n",
       " & 6 X_{2} + X_{14} + 2 X_{15} + 3 X_{16} + 4 X_{17} + 5 X_{18} + X_{19} + 2 X_{20} + 3 X_{21} + 4 X_{22} + 5 X_{23} + 5 Y_{4,10} + 4 Y_{5,10} + 3 Y_{6,10} + 2 Y_{7,10} + Y_{8,10} + 5 Y_{29,10} + 4 Y_{30,10} + 3 Y_{31,10} + 2 Y_{32,10} + Y_{33,10} \\geq 4\\\\\n",
       " & 6 X_{3} + X_{24} + 2 X_{25} + 3 X_{26} + 4 X_{27} + 5 X_{28} + X_{29} + 2 X_{30} + 3 X_{31} + 4 X_{32} + 5 X_{33} + 5 Y_{9,4} + 4 Y_{10,4} + 3 Y_{11,4} + 2 Y_{12,4} + Y_{13,4} + 5 Y_{19,4} + 4 Y_{20,4} + 3 Y_{21,4} + 2 Y_{22,4} + Y_{23,4} \\geq 1\\\\\n",
       " & 6 X_{3} + X_{24} + 2 X_{25} + 3 X_{26} + 4 X_{27} + 5 X_{28} + X_{29} + 2 X_{30} + 3 X_{31} + 4 X_{32} + 5 X_{33} + 5 Y_{9,8} + 4 Y_{10,8} + 3 Y_{11,8} + 2 Y_{12,8} + Y_{13,8} + 5 Y_{19,8} + 4 Y_{20,8} + 3 Y_{21,8} + 2 Y_{22,8} + Y_{23,8} \\geq 2\\\\\n",
       " & 6 X_{3} + X_{24} + 2 X_{25} + 3 X_{26} + 4 X_{27} + 5 X_{28} + X_{29} + 2 X_{30} + 3 X_{31} + 4 X_{32} + 5 X_{33} + 5 Y_{9,11} + 4 Y_{10,11} + 3 Y_{11,11} + 2 Y_{12,11} + Y_{13,11} + 5 Y_{19,11} + 4 Y_{20,11} + 3 Y_{21,11} + 2 Y_{22,11} + Y_{23,11} \\geq 3\\\\\n",
       " & 6 X_{1} + X_{4} + 2 X_{5} + 3 X_{6} + 4 X_{7} + 5 X_{8} + X_{9} + 2 X_{10} + 3 X_{11} + 4 X_{12} + 5 X_{13} + 5 Z_{14,1} + 4 Z_{15,1} + 3 Z_{16,1} + 2 Z_{17,1} + Z_{18,1} + 5 Z_{24,1} + 4 Z_{25,1} + 3 Z_{26,1} + 2 Z_{27,1} + Z_{28,1} \\geq 1\\\\\n",
       " & 6 X_{1} + X_{4} + 2 X_{5} + 3 X_{6} + 4 X_{7} + 5 X_{8} + X_{9} + 2 X_{10} + 3 X_{11} + 4 X_{12} + 5 X_{13} + 5 Z_{14,5} + 4 Z_{15,5} + 3 Z_{16,5} + 2 Z_{17,5} + Z_{18,5} + 5 Z_{24,5} + 4 Z_{25,5} + 3 Z_{26,5} + 2 Z_{27,5} + Z_{28,5} \\geq 2\\\\\n",
       " & 6 X_{1} + X_{4} + 2 X_{5} + 3 X_{6} + 4 X_{7} + 5 X_{8} + X_{9} + 2 X_{10} + 3 X_{11} + 4 X_{12} + 5 X_{13} + 5 Z_{14,7} + 4 Z_{15,7} + 3 Z_{16,7} + 2 Z_{17,7} + Z_{18,7} + 5 Z_{24,7} + 4 Z_{25,7} + 3 Z_{26,7} + 2 Z_{27,7} + Z_{28,7} \\geq 3\\\\\n",
       " & 6 X_{1} + X_{4} + 2 X_{5} + 3 X_{6} + 4 X_{7} + 5 X_{8} + X_{9} + 2 X_{10} + 3 X_{11} + 4 X_{12} + 5 X_{13} + 5 Z_{14,9} + 4 Z_{15,9} + 3 Z_{16,9} + 2 Z_{17,9} + Z_{18,9} + 5 Z_{24,9} + 4 Z_{25,9} + 3 Z_{26,9} + 2 Z_{27,9} + Z_{28,9} \\geq 4\\\\\n",
       " & 6 X_{1} + X_{4} + 2 X_{5} + 3 X_{6} + 4 X_{7} + 5 X_{8} + X_{9} + 2 X_{10} + 3 X_{11} + 4 X_{12} + 5 X_{13} + 5 Z_{14,12} + 4 Z_{15,12} + 3 Z_{16,12} + 2 Z_{17,12} + Z_{18,12} + 5 Z_{24,12} + 4 Z_{25,12} + 3 Z_{26,12} + 2 Z_{27,12} + Z_{28,12} \\geq 5\\\\\n",
       " & 6 X_{2} + X_{14} + 2 X_{15} + 3 X_{16} + 4 X_{17} + 5 X_{18} + X_{19} + 2 X_{20} + 3 X_{21} + 4 X_{22} + 5 X_{23} + 5 Z_{4,2} + 4 Z_{5,2} + 3 Z_{6,2} + 2 Z_{7,2} + Z_{8,2} + 5 Z_{29,2} + 4 Z_{30,2} + 3 Z_{31,2} + 2 Z_{32,2} + Z_{33,2} \\geq 1\\\\\n",
       " & 6 X_{2} + X_{14} + 2 X_{15} + 3 X_{16} + 4 X_{17} + 5 X_{18} + X_{19} + 2 X_{20} + 3 X_{21} + 4 X_{22} + 5 X_{23} + 5 Z_{4,3} + 4 Z_{5,3} + 3 Z_{6,3} + 2 Z_{7,3} + Z_{8,3} + 5 Z_{29,3} + 4 Z_{30,3} + 3 Z_{31,3} + 2 Z_{32,3} + Z_{33,3} \\geq 2\\\\\n",
       " & 6 X_{2} + X_{14} + 2 X_{15} + 3 X_{16} + 4 X_{17} + 5 X_{18} + X_{19} + 2 X_{20} + 3 X_{21} + 4 X_{22} + 5 X_{23} + 5 Z_{4,6} + 4 Z_{5,6} + 3 Z_{6,6} + 2 Z_{7,6} + Z_{8,6} + 5 Z_{29,6} + 4 Z_{30,6} + 3 Z_{31,6} + 2 Z_{32,6} + Z_{33,6} \\geq 3\\\\\n",
       " & 6 X_{2} + X_{14} + 2 X_{15} + 3 X_{16} + 4 X_{17} + 5 X_{18} + X_{19} + 2 X_{20} + 3 X_{21} + 4 X_{22} + 5 X_{23} + 5 Z_{4,10} + 4 Z_{5,10} + 3 Z_{6,10} + 2 Z_{7,10} + Z_{8,10} + 5 Z_{29,10} + 4 Z_{30,10} + 3 Z_{31,10} + 2 Z_{32,10} + Z_{33,10} \\geq 4\\\\\n",
       " & 6 X_{3} + X_{24} + 2 X_{25} + 3 X_{26} + 4 X_{27} + 5 X_{28} + X_{29} + 2 X_{30} + 3 X_{31} + 4 X_{32} + 5 X_{33} + 5 Z_{9,4} + 4 Z_{10,4} + 3 Z_{11,4} + 2 Z_{12,4} + Z_{13,4} + 5 Z_{19,4} + 4 Z_{20,4} + 3 Z_{21,4} + 2 Z_{22,4} + Z_{23,4} \\geq 1\\\\\n",
       " & 6 X_{3} + X_{24} + 2 X_{25} + 3 X_{26} + 4 X_{27} + 5 X_{28} + X_{29} + 2 X_{30} + 3 X_{31} + 4 X_{32} + 5 X_{33} + 5 Z_{9,8} + 4 Z_{10,8} + 3 Z_{11,8} + 2 Z_{12,8} + Z_{13,8} + 5 Z_{19,8} + 4 Z_{20,8} + 3 Z_{21,8} + 2 Z_{22,8} + Z_{23,8} \\geq 2\\\\\n",
       " & 6 X_{3} + X_{24} + 2 X_{25} + 3 X_{26} + 4 X_{27} + 5 X_{28} + X_{29} + 2 X_{30} + 3 X_{31} + 4 X_{32} + 5 X_{33} + 5 Z_{9,11} + 4 Z_{10,11} + 3 Z_{11,11} + 2 Z_{12,11} + Z_{13,11} + 5 Z_{19,11} + 4 Z_{20,11} + 3 Z_{21,11} + 2 Z_{22,11} + Z_{23,11} \\geq 3\\\\\n",
       " & Y_{4,2} + 2 Y_{5,2} + 3 Y_{6,2} + 4 Y_{7,2} + 5 Y_{8,2} + Y_{9,2} + 2 Y_{10,2} + 3 Y_{11,2} + 4 Y_{12,2} + 5 Y_{13,2} \\leq 1\\\\\n",
       " & Y_{4,3} + 2 Y_{5,3} + 3 Y_{6,3} + 4 Y_{7,3} + 5 Y_{8,3} + Y_{9,3} + 2 Y_{10,3} + 3 Y_{11,3} + 4 Y_{12,3} + 5 Y_{13,3} \\leq 1\\\\\n",
       " & Y_{4,6} + 2 Y_{5,6} + 3 Y_{6,6} + 4 Y_{7,6} + 5 Y_{8,6} + Y_{9,6} + 2 Y_{10,6} + 3 Y_{11,6} + 4 Y_{12,6} + 5 Y_{13,6} \\leq 2\\\\\n",
       " & Y_{4,10} + 2 Y_{5,10} + 3 Y_{6,10} + 4 Y_{7,10} + 5 Y_{8,10} + Y_{9,10} + 2 Y_{10,10} + 3 Y_{11,10} + 4 Y_{12,10} + 5 Y_{13,10} \\leq 4\\\\\n",
       " & Y_{4,4} + 2 Y_{5,4} + 3 Y_{6,4} + 4 Y_{7,4} + 5 Y_{8,4} + Y_{9,4} + 2 Y_{10,4} + 3 Y_{11,4} + 4 Y_{12,4} + 5 Y_{13,4} \\leq 1\\\\\n",
       " & Y_{4,8} + 2 Y_{5,8} + 3 Y_{6,8} + 4 Y_{7,8} + 5 Y_{8,8} + Y_{9,8} + 2 Y_{10,8} + 3 Y_{11,8} + 4 Y_{12,8} + 5 Y_{13,8} \\leq 3\\\\\n",
       " & Y_{4,11} + 2 Y_{5,11} + 3 Y_{6,11} + 4 Y_{7,11} + 5 Y_{8,11} + Y_{9,11} + 2 Y_{10,11} + 3 Y_{11,11} + 4 Y_{12,11} + 5 Y_{13,11} \\leq 4\\\\\n",
       " & Y_{14,1} + 2 Y_{15,1} + 3 Y_{16,1} + 4 Y_{17,1} + 5 Y_{18,1} + Y_{19,1} + 2 Y_{20,1} + 3 Y_{21,1} + 4 Y_{22,1} + 5 Y_{23,1} \\leq 0\\\\\n",
       " & Y_{14,5} + 2 Y_{15,5} + 3 Y_{16,5} + 4 Y_{17,5} + 5 Y_{18,5} + Y_{19,5} + 2 Y_{20,5} + 3 Y_{21,5} + 4 Y_{22,5} + 5 Y_{23,5} \\leq 2\\\\\n",
       " & Y_{14,7} + 2 Y_{15,7} + 3 Y_{16,7} + 4 Y_{17,7} + 5 Y_{18,7} + Y_{19,7} + 2 Y_{20,7} + 3 Y_{21,7} + 4 Y_{22,7} + 5 Y_{23,7} \\leq 3\\\\\n",
       " & Y_{14,9} + 2 Y_{15,9} + 3 Y_{16,9} + 4 Y_{17,9} + 5 Y_{18,9} + Y_{19,9} + 2 Y_{20,9} + 3 Y_{21,9} + 4 Y_{22,9} + 5 Y_{23,9} \\leq 3\\\\\n",
       " & Y_{14,12} + 2 Y_{15,12} + 3 Y_{16,12} + 4 Y_{17,12} + 5 Y_{18,12} + Y_{19,12} + 2 Y_{20,12} + 3 Y_{21,12} + 4 Y_{22,12} + 5 Y_{23,12} \\leq 4\\\\\n",
       " & Y_{14,4} + 2 Y_{15,4} + 3 Y_{16,4} + 4 Y_{17,4} + 5 Y_{18,4} + Y_{19,4} + 2 Y_{20,4} + 3 Y_{21,4} + 4 Y_{22,4} + 5 Y_{23,4} \\leq 2\\\\\n",
       " & Y_{14,8} + 2 Y_{15,8} + 3 Y_{16,8} + 4 Y_{17,8} + 5 Y_{18,8} + Y_{19,8} + 2 Y_{20,8} + 3 Y_{21,8} + 4 Y_{22,8} + 5 Y_{23,8} \\leq 3\\\\\n",
       " & Y_{14,11} + 2 Y_{15,11} + 3 Y_{16,11} + 4 Y_{17,11} + 5 Y_{18,11} + Y_{19,11} + 2 Y_{20,11} + 3 Y_{21,11} + 4 Y_{22,11} + 5 Y_{23,11} \\leq 4\\\\\n",
       " & Y_{24,1} + 2 Y_{25,1} + 3 Y_{26,1} + 4 Y_{27,1} + 5 Y_{28,1} + Y_{29,1} + 2 Y_{30,1} + 3 Y_{31,1} + 4 Y_{32,1} + 5 Y_{33,1} \\leq 0\\\\\n",
       " & Y_{24,5} + 2 Y_{25,5} + 3 Y_{26,5} + 4 Y_{27,5} + 5 Y_{28,5} + Y_{29,5} + 2 Y_{30,5} + 3 Y_{31,5} + 4 Y_{32,5} + 5 Y_{33,5} \\leq 1\\\\\n",
       " & Y_{24,7} + 2 Y_{25,7} + 3 Y_{26,7} + 4 Y_{27,7} + 5 Y_{28,7} + Y_{29,7} + 2 Y_{30,7} + 3 Y_{31,7} + 4 Y_{32,7} + 5 Y_{33,7} \\leq 1\\\\\n",
       " & Y_{24,9} + 2 Y_{25,9} + 3 Y_{26,9} + 4 Y_{27,9} + 5 Y_{28,9} + Y_{29,9} + 2 Y_{30,9} + 3 Y_{31,9} + 4 Y_{32,9} + 5 Y_{33,9} \\leq 2\\\\\n",
       " & Y_{24,12} + 2 Y_{25,12} + 3 Y_{26,12} + 4 Y_{27,12} + 5 Y_{28,12} + Y_{29,12} + 2 Y_{30,12} + 3 Y_{31,12} + 4 Y_{32,12} + 5 Y_{33,12} \\leq 3\\\\\n",
       " & Y_{24,2} + 2 Y_{25,2} + 3 Y_{26,2} + 4 Y_{27,2} + 5 Y_{28,2} + Y_{29,2} + 2 Y_{30,2} + 3 Y_{31,2} + 4 Y_{32,2} + 5 Y_{33,2} \\leq 0\\\\\n",
       " & Y_{24,3} + 2 Y_{25,3} + 3 Y_{26,3} + 4 Y_{27,3} + 5 Y_{28,3} + Y_{29,3} + 2 Y_{30,3} + 3 Y_{31,3} + 4 Y_{32,3} + 5 Y_{33,3} \\leq 0\\\\\n",
       " & [[\\ldots\\text{2346 constraints skipped}\\ldots]] \\\\\n",
       " & Z_{17,11} \\in \\mathbb{Z}\\\\\n",
       " & Z_{18,11} \\in \\mathbb{Z}\\\\\n",
       " & Z_{19,11} \\in \\mathbb{Z}\\\\\n",
       " & Z_{20,11} \\in \\mathbb{Z}\\\\\n",
       " & Z_{21,11} \\in \\mathbb{Z}\\\\\n",
       " & Z_{22,11} \\in \\mathbb{Z}\\\\\n",
       " & Z_{23,11} \\in \\mathbb{Z}\\\\\n",
       " & Z_{24,11} \\in \\mathbb{Z}\\\\\n",
       " & Z_{25,11} \\in \\mathbb{Z}\\\\\n",
       " & Z_{26,11} \\in \\mathbb{Z}\\\\\n",
       " & Z_{27,11} \\in \\mathbb{Z}\\\\\n",
       " & Z_{28,11} \\in \\mathbb{Z}\\\\\n",
       " & Z_{29,11} \\in \\mathbb{Z}\\\\\n",
       " & Z_{30,11} \\in \\mathbb{Z}\\\\\n",
       " & Z_{31,11} \\in \\mathbb{Z}\\\\\n",
       " & Z_{32,11} \\in \\mathbb{Z}\\\\\n",
       " & Z_{33,11} \\in \\mathbb{Z}\\\\\n",
       " & Z_{1,12} \\in \\mathbb{Z}\\\\\n",
       " & Z_{2,12} \\in \\mathbb{Z}\\\\\n",
       " & Z_{3,12} \\in \\mathbb{Z}\\\\\n",
       " & Z_{4,12} \\in \\mathbb{Z}\\\\\n",
       " & Z_{5,12} \\in \\mathbb{Z}\\\\\n",
       " & Z_{6,12} \\in \\mathbb{Z}\\\\\n",
       " & Z_{7,12} \\in \\mathbb{Z}\\\\\n",
       " & Z_{8,12} \\in \\mathbb{Z}\\\\\n",
       " & Z_{9,12} \\in \\mathbb{Z}\\\\\n",
       " & Z_{10,12} \\in \\mathbb{Z}\\\\\n",
       " & Z_{11,12} \\in \\mathbb{Z}\\\\\n",
       " & Z_{12,12} \\in \\mathbb{Z}\\\\\n",
       " & Z_{13,12} \\in \\mathbb{Z}\\\\\n",
       " & Z_{14,12} \\in \\mathbb{Z}\\\\\n",
       " & Z_{15,12} \\in \\mathbb{Z}\\\\\n",
       " & Z_{16,12} \\in \\mathbb{Z}\\\\\n",
       " & Z_{17,12} \\in \\mathbb{Z}\\\\\n",
       " & Z_{18,12} \\in \\mathbb{Z}\\\\\n",
       " & Z_{19,12} \\in \\mathbb{Z}\\\\\n",
       " & Z_{20,12} \\in \\mathbb{Z}\\\\\n",
       " & Z_{21,12} \\in \\mathbb{Z}\\\\\n",
       " & Z_{22,12} \\in \\mathbb{Z}\\\\\n",
       " & Z_{23,12} \\in \\mathbb{Z}\\\\\n",
       " & Z_{24,12} \\in \\mathbb{Z}\\\\\n",
       " & Z_{25,12} \\in \\mathbb{Z}\\\\\n",
       " & Z_{26,12} \\in \\mathbb{Z}\\\\\n",
       " & Z_{27,12} \\in \\mathbb{Z}\\\\\n",
       " & Z_{28,12} \\in \\mathbb{Z}\\\\\n",
       " & Z_{29,12} \\in \\mathbb{Z}\\\\\n",
       " & Z_{30,12} \\in \\mathbb{Z}\\\\\n",
       " & Z_{31,12} \\in \\mathbb{Z}\\\\\n",
       " & Z_{32,12} \\in \\mathbb{Z}\\\\\n",
       " & Z_{33,12} \\in \\mathbb{Z}\\\\\n",
       "\\end{aligned} $$"
      ]
     },
     "metadata": {},
     "output_type": "display_data"
    }
   ],
   "source": [
    "print(model)"
   ]
  },
  {
   "cell_type": "code",
   "execution_count": 120,
   "id": "9ee2cbb0-894c-4a3a-8f90-ed8d76f8fb63",
   "metadata": {
    "tags": []
   },
   "outputs": [],
   "source": [
    "Base.displaysize(stdout) = (1000, 1000)"
   ]
  },
  {
   "cell_type": "code",
   "execution_count": 121,
   "id": "b57e4557-071f-4c92-ad15-73136f4989ef",
   "metadata": {
    "tags": []
   },
   "outputs": [],
   "source": [
    "open(\"full_model_output.txt\", \"w\") do io\n",
    "    print(io, model)  # Prints everything into a text file\n",
    "end"
   ]
  },
  {
   "cell_type": "code",
   "execution_count": 118,
   "id": "bb547403-5c57-4c5e-9010-26128ce8f0a6",
   "metadata": {
    "tags": []
   },
   "outputs": [
    {
     "ename": "LoadError",
     "evalue": "MethodError: no method matching show(::Model; context::Pair{Symbol, Bool})\nThis method may not support any kwargs.\n\n\u001b[0mClosest candidates are:\n\u001b[0m  show(::Any)\u001b[91m got unsupported keyword argument \"context\"\u001b[39m\n\u001b[0m\u001b[90m   @\u001b[39m \u001b[90mBase\u001b[39m \u001b[90m\u001b[4mshow.jl:479\u001b[24m\u001b[39m\n\u001b[0m  show(\u001b[91m::IOContext\u001b[39m, \u001b[91m::JuMP.Containers.SparseAxisArray\u001b[39m)\u001b[91m got unsupported keyword argument \"context\"\u001b[39m\n\u001b[0m\u001b[90m   @\u001b[39m \u001b[35mJuMP\u001b[39m \u001b[90m/opt/julia/packages/JuMP/CU7H5/src/Containers/\u001b[39m\u001b[90m\u001b[4mSparseAxisArray.jl:456\u001b[24m\u001b[39m\n\u001b[0m  show(\u001b[91m::IO\u001b[39m, \u001b[91m::Core.TypeofBottom\u001b[39m)\u001b[91m got unsupported keyword argument \"context\"\u001b[39m\n\u001b[0m\u001b[90m   @\u001b[39m \u001b[90mBase\u001b[39m \u001b[90m\u001b[4mshow.jl:566\u001b[24m\u001b[39m\n\u001b[0m  ...\n",
     "output_type": "error",
     "traceback": [
      "MethodError: no method matching show(::Model; context::Pair{Symbol, Bool})\nThis method may not support any kwargs.\n\n\u001b[0mClosest candidates are:\n\u001b[0m  show(::Any)\u001b[91m got unsupported keyword argument \"context\"\u001b[39m\n\u001b[0m\u001b[90m   @\u001b[39m \u001b[90mBase\u001b[39m \u001b[90m\u001b[4mshow.jl:479\u001b[24m\u001b[39m\n\u001b[0m  show(\u001b[91m::IOContext\u001b[39m, \u001b[91m::JuMP.Containers.SparseAxisArray\u001b[39m)\u001b[91m got unsupported keyword argument \"context\"\u001b[39m\n\u001b[0m\u001b[90m   @\u001b[39m \u001b[35mJuMP\u001b[39m \u001b[90m/opt/julia/packages/JuMP/CU7H5/src/Containers/\u001b[39m\u001b[90m\u001b[4mSparseAxisArray.jl:456\u001b[24m\u001b[39m\n\u001b[0m  show(\u001b[91m::IO\u001b[39m, \u001b[91m::Core.TypeofBottom\u001b[39m)\u001b[91m got unsupported keyword argument \"context\"\u001b[39m\n\u001b[0m\u001b[90m   @\u001b[39m \u001b[90mBase\u001b[39m \u001b[90m\u001b[4mshow.jl:566\u001b[24m\u001b[39m\n\u001b[0m  ...\n",
      "",
      "Stacktrace:",
      " [1] top-level scope",
      "   @ In[118]:1"
     ]
    }
   ],
   "source": [
    "show(model, context=:limit => false)"
   ]
  },
  {
   "cell_type": "code",
   "execution_count": 31,
   "id": "0b1194dc-e877-40fc-8799-841988d6b8ef",
   "metadata": {
    "tags": []
   },
   "outputs": [
    {
     "name": "stdout",
     "output_type": "stream",
     "text": [
      "12345"
     ]
    }
   ],
   "source": [
    "for i in 1:n-1\n",
    "    print(i)\n",
    "end"
   ]
  },
  {
   "cell_type": "code",
   "execution_count": 22,
   "id": "ac18590e-79db-4fa6-8f3c-47758da75b2a",
   "metadata": {
    "tags": []
   },
   "outputs": [
    {
     "data": {
      "text/plain": [
       "15-element Vector{Any}:\n",
       " [(\"A\", 3)]\n",
       " [(\"B\", 3)]\n",
       " [(\"C\", 3)]\n",
       " [(\"A\", 1), (\"B\", 2)]\n",
       " [(\"A\", 2), (\"B\", 1)]\n",
       " [(\"A\", 1), (\"C\", 2)]\n",
       " [(\"A\", 2), (\"C\", 1)]\n",
       " [(\"B\", 1), (\"A\", 2)]\n",
       " [(\"B\", 2), (\"A\", 1)]\n",
       " [(\"B\", 1), (\"C\", 2)]\n",
       " [(\"B\", 2), (\"C\", 1)]\n",
       " [(\"C\", 1), (\"A\", 2)]\n",
       " [(\"C\", 2), (\"A\", 1)]\n",
       " [(\"C\", 1), (\"B\", 2)]\n",
       " [(\"C\", 2), (\"B\", 1)]"
      ]
     },
     "execution_count": 22,
     "metadata": {},
     "output_type": "execute_result"
    }
   ],
   "source": [
    "P"
   ]
  },
  {
   "cell_type": "code",
   "execution_count": 14,
   "id": "90c171e4-8f04-4664-b611-3e2d89974d21",
   "metadata": {
    "tags": []
   },
   "outputs": [
    {
     "name": "stdout",
     "output_type": "stream",
     "text": [
      "\n",
      "A\n",
      "1\n",
      "2\n",
      "5\n",
      "3\n",
      "\n",
      "B\n",
      "1\n",
      "4\n",
      "3\n",
      "\n",
      "C\n",
      "1\n",
      "4\n",
      "2\n",
      "5\n"
     ]
    }
   ],
   "source": [
    "# Constraint (7) - Modified\n",
    "for t in bus_types\n",
    "    println(\"\")\n",
    "    println(t)\n",
    "    for i in union([indices_low[t′] for t′ in bus_types if t′ ≠ t]...)  # Collect indices from all other bus types\n",
    "        println(i)\n",
    "    end\n",
    "end"
   ]
  },
  {
   "cell_type": "code",
   "execution_count": 15,
   "id": "5567f459-b4b0-4de1-bdd5-69ed111784c7",
   "metadata": {
    "tags": []
   },
   "outputs": [
    {
     "data": {
      "text/plain": [
       "1"
      ]
     },
     "execution_count": 15,
     "metadata": {},
     "output_type": "execute_result"
    }
   ],
   "source": [
    "exit_block[3][\"A\"]"
   ]
  },
  {
   "cell_type": "code",
   "execution_count": 57,
   "id": "6e12bcb6-e4e1-42ed-a576-d2aaf2ce3375",
   "metadata": {
    "tags": []
   },
   "outputs": [
    {
     "ename": "LoadError",
     "evalue": "AbstractDict collections only contain Pairs;\nEither look for e.g. A=>B instead, or use the `keys` or `values`\nfunction if you are looking for a key or value respectively.",
     "output_type": "error",
     "traceback": [
      "AbstractDict collections only contain Pairs;\nEither look for e.g. A=>B instead, or use the `keys` or `values`\nfunction if you are looking for a key or value respectively.",
      "",
      "Stacktrace:",
      " [1] error(s::String)",
      "   @ Base ./error.jl:35",
      " [2] in(p::String, a::Dict{String, Int64})",
      "   @ Base ./abstractdict.jl:30",
      " [3] macro expansion",
      "   @ /opt/julia/packages/MutableArithmetics/bmgkg/src/rewrite_generic.jl:360 [inlined]",
      " [4] macro expansion",
      "   @ /opt/julia/packages/MutableArithmetics/bmgkg/src/rewrite.jl:371 [inlined]",
      " [5] macro expansion",
      "   @ /opt/julia/packages/JuMP/CU7H5/src/macros.jl:264 [inlined]",
      " [6] macro expansion",
      "   @ /opt/julia/packages/JuMP/CU7H5/src/macros/@constraint.jl:171 [inlined]",
      " [7] macro expansion",
      "   @ /opt/julia/packages/JuMP/CU7H5/src/macros.jl:400 [inlined]",
      " [8] top-level scope",
      "   @ ./In[57]:3"
     ]
    }
   ],
   "source": [
    "# Constraint (6)\n",
    "for t in bus_types, i in 1:l\n",
    "    @constraint(model, sum(bus_distribution[p][t] * X[p] for p in 1:length(P) if t in bus_distribution[p]) >= a[t, i]) # (6)\n",
    "end"
   ]
  },
  {
   "cell_type": "code",
   "execution_count": null,
   "id": "939b9b2a-93ba-4946-89e2-150451ae9232",
   "metadata": {},
   "outputs": [],
   "source": [
    "for t in bus_types, i in 1:l\n",
    "    @constraint(model, sum(bus_distribution[p][t] * Y[p, i] for p in 1:length(P) if t in bus_distribution[p]) <= a[t, i]) # (7)\n",
    "end\n",
    "\n",
    "for p in 1:length(P), i in 1:(l-1)\n",
    "    @constraint(model, Y[p, i] <= Y[p, i+1]) # (8)\n",
    "end\n",
    "\n",
    "for p in 1:length(P)\n",
    "    @constraint(model, Y[p, l] <= X[p]) # (9)\n",
    "end"
   ]
  },
  {
   "cell_type": "code",
   "execution_count": null,
   "id": "dc4ef8f7-a41f-41c0-b302-0c55a8a600ff",
   "metadata": {},
   "outputs": [],
   "source": [
    "# Solve the model\n",
    "optimize!(model)\n",
    "\n",
    "# Print results\n",
    "println(\"Optimal assignment of patterns:\")\n",
    "for i in 1:length(P)\n",
    "    println(\"Pattern \", i, \": X = \", value(X[i]))\n",
    "end"
   ]
  },
  {
   "cell_type": "code",
   "execution_count": 34,
   "id": "c773c4b6-3b21-4135-a8be-de5fdebb0395",
   "metadata": {
    "tags": []
   },
   "outputs": [
    {
     "data": {
      "text/latex": [
       "$$ X_{1} + X_{2} + X_{3} + X_{4} + X_{5} + X_{6} + X_{7} + X_{8} + X_{9} + X_{10} = 3 $$"
      ],
      "text/plain": [
       "total_lanes : X[1] + X[2] + X[3] + X[4] + X[5] + X[6] + X[7] + X[8] + X[9] + X[10] = 3"
      ]
     },
     "execution_count": 34,
     "metadata": {},
     "output_type": "execute_result"
    }
   ],
   "source": [
    "@constraint(model, total_lanes, sum(X[i] for i in 1:length(P)) == v)"
   ]
  },
  {
   "cell_type": "code",
   "execution_count": 35,
   "id": "44a7f0ac-f056-4cb5-9c42-0df4f8eac722",
   "metadata": {
    "tags": []
   },
   "outputs": [],
   "source": [
    "for t in bus_types\n",
    "    @constraint(model, sum(get(bus_distribution[i], t, 0) * X[i] for i in 1:length(P)) == b[t])\n",
    "end"
   ]
  },
  {
   "cell_type": "code",
   "execution_count": 36,
   "id": "427afed0-770e-49f8-85d7-93e915256552",
   "metadata": {
    "tags": []
   },
   "outputs": [
    {
     "data": {
      "text/plain": [
       "1"
      ]
     },
     "execution_count": 36,
     "metadata": {},
     "output_type": "execute_result"
    }
   ],
   "source": [
    "get(bus_distribution[3], \"A\", 0)"
   ]
  },
  {
   "cell_type": "code",
   "execution_count": 25,
   "id": "18df64e0-8de7-4e27-a6a6-f9bef88e435a",
   "metadata": {
    "tags": []
   },
   "outputs": [
    {
     "data": {
      "text/plain": [
       "2-element Vector{String}:\n",
       " \"A\"\n",
       " \"B\""
      ]
     },
     "execution_count": 25,
     "metadata": {},
     "output_type": "execute_result"
    }
   ],
   "source": [
    "bus_types"
   ]
  },
  {
   "cell_type": "code",
   "execution_count": null,
   "id": "01bd4295-7c99-42bc-bf2a-4c5e72b87c58",
   "metadata": {},
   "outputs": [],
   "source": []
  }
 ],
 "metadata": {
  "kernelspec": {
   "display_name": "Julia 1.11.2",
   "language": "julia",
   "name": "julia-1.11"
  },
  "language_info": {
   "file_extension": ".jl",
   "mimetype": "application/julia",
   "name": "julia",
   "version": "1.11.2"
  }
 },
 "nbformat": 4,
 "nbformat_minor": 5
}
